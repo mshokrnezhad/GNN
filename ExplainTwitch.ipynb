{
 "cells": [
  {
   "attachments": {},
   "cell_type": "markdown",
   "metadata": {},
   "source": [
    "ExplainTwitch: A Simple Example to Show How to Explain Graph Neural Networks using GNNExplainer over Twitch Dataset"
   ]
  },
  {
   "cell_type": "code",
   "execution_count": 3,
   "metadata": {},
   "outputs": [
    {
     "name": "stdout",
     "output_type": "stream",
     "text": [
      "Torch version:  2.0.1\n"
     ]
    }
   ],
   "source": [
    "import torch\n",
    "torch.manual_seed(42)\n",
    "from IPython.display import clear_output \n",
    "torch_version = torch.__version__\n",
    "print(\"Torch version: \", torch_version)"
   ]
  },
  {
   "cell_type": "code",
   "execution_count": 4,
   "metadata": {},
   "outputs": [
    {
     "data": {
      "text/plain": [
       "Data(x=[7126, 128], edge_index=[2, 77774], y=[7126])"
      ]
     },
     "execution_count": 4,
     "metadata": {},
     "output_type": "execute_result"
    }
   ],
   "source": [
    "from torch_geometric.datasets import Twitch\n",
    "# Dataset source: https://github.com/benedekrozemberczki/datasets#twitch-social-networks\n",
    "graph = Twitch(root=\"./data/Twitch\", name=\"EN\")[0]\n",
    "graph\n",
    "\n",
    "# Twitch Streamer Dataset:\n",
    "# - Twitch user-user networks of gamers who stream in a certain language\n",
    "# - Nodes are the users themselves and the links are mutual friendships between them\n",
    "# - These social networks were collected in May 2018"
   ]
  },
  {
   "cell_type": "code",
   "execution_count": 5,
   "metadata": {},
   "outputs": [
    {
     "data": {
      "text/plain": [
       "tensor([[-0.2367, -0.2307, -0.1605,  ...,  1.3203, -0.2558, -0.1839],\n",
       "        [-0.2367, -0.2150, -0.1605,  ...,  1.3572, -0.2538, -0.1685],\n",
       "        [-0.2367, -0.2043, -0.0994,  ..., -0.6348, -0.2558, -0.1839],\n",
       "        ...,\n",
       "        [-0.2193, -0.2307, -0.1605,  ..., -0.6348, -0.2558, -0.1839],\n",
       "        [-0.2367, -0.2307, -0.1605,  ..., -0.6348, -0.2558, -0.1733],\n",
       "        [ 4.6088, -0.2307, -0.1605,  ...,  1.2370, -0.2558, -0.1839]])"
      ]
     },
     "execution_count": 5,
     "metadata": {},
     "output_type": "execute_result"
    }
   ],
   "source": [
    "graph.x\n",
    "\n",
    "# Extracted based on the games played and liked, location and streaming habits\n",
    "# These are embeddings, which cannot be interpreted directly"
   ]
  },
  {
   "cell_type": "code",
   "execution_count": 6,
   "metadata": {},
   "outputs": [
    {
     "data": {
      "text/plain": [
       "tensor([1, 0, 1,  ..., 0, 0, 1])"
      ]
     },
     "execution_count": 6,
     "metadata": {},
     "output_type": "execute_result"
    }
   ],
   "source": [
    "graph.y\n",
    "\n",
    "# Predict if a streamer uses explicit language"
   ]
  },
  {
   "cell_type": "code",
   "execution_count": 7,
   "metadata": {},
   "outputs": [
    {
     "data": {
      "text/plain": [
       "<Axes: xlabel='explicit_language'>"
      ]
     },
     "execution_count": 7,
     "metadata": {},
     "output_type": "execute_result"
    },
    {
     "data": {
      "image/png": "[encoded data removed]",
      "text/plain": [
       "<Figure size 500x500 with 1 Axes>"
      ]
     },
     "metadata": {},
     "output_type": "display_data"
    }
   ],
   "source": [
    "import pandas as pd\n",
    "from pylab import rcParams\n",
    "rcParams['figure.figsize'] = 5, 5\n",
    "df = pd.DataFrame(graph.y.numpy(), columns=[\"explicit_language\"])\n",
    "df['explicit_language'].value_counts().plot(kind='bar')"
   ]
  },
  {
   "cell_type": "code",
   "execution_count": 8,
   "metadata": {},
   "outputs": [
    {
     "name": "stdout",
     "output_type": "stream",
     "text": [
      "GNN(\n",
      "  (initial_conv): GATConv(128, 128, heads=1)\n",
      "  (conv1): GATConv(128, 128, heads=1)\n",
      "  (out): Linear(in_features=128, out_features=1, bias=True)\n",
      ")\n",
      "Number of parameters:  33665\n"
     ]
    }
   ],
   "source": [
    "from torch.nn import Linear\n",
    "import torch.nn.functional as F \n",
    "from torch_geometric.nn import GATConv\n",
    "embedding_size = 128\n",
    "\n",
    "class GNN(torch.nn.Module):\n",
    "    def __init__(self):\n",
    "        # Init parent\n",
    "        super(GNN, self).__init__()\n",
    "\n",
    "        # GCN layers\n",
    "        self.initial_conv = GATConv(graph.num_features, embedding_size)\n",
    "        self.conv1 = GATConv(embedding_size, embedding_size)\n",
    "\n",
    "        # Output layer\n",
    "        self.out = Linear(embedding_size, 1)\n",
    "\n",
    "    def forward(self, x, edge_index):\n",
    "        emb = F.relu(self.initial_conv(x, edge_index))\n",
    "        emb = F.relu(self.conv1(emb, edge_index))\n",
    "        return self.out(emb)\n",
    "\n",
    "model = GNN()\n",
    "print(model)\n",
    "print(\"Number of parameters: \", sum(p.numel() for p in model.parameters()))"
   ]
  },
  {
   "cell_type": "code",
   "execution_count": 9,
   "metadata": {},
   "outputs": [
    {
     "name": "stdout",
     "output_type": "stream",
     "text": [
      "Train nodes:  tensor(4000)\n",
      "Test nodes:  tensor(3126)\n"
     ]
    }
   ],
   "source": [
    "# Add train and test masks\n",
    "num_nodes = graph.x.shape[0]\n",
    "ones = torch.ones(num_nodes)\n",
    "ones[4000:] = 0\n",
    "graph.train_mask = ones.bool()\n",
    "graph.test_mask = ~graph.train_mask.bool()\n",
    "\n",
    "print(\"Train nodes: \", sum(graph.train_mask))\n",
    "print(\"Test nodes: \", sum(graph.test_mask))"
   ]
  },
  {
   "cell_type": "code",
   "execution_count": 10,
   "metadata": {},
   "outputs": [
    {
     "name": "stdout",
     "output_type": "stream",
     "text": [
      "Epoch: 000, Test loss: 0.6880 | Train loss: 0.6885\n",
      "Epoch: 100, Test loss: 0.6843 | Train loss: 0.6822\n",
      "Epoch: 200, Test loss: 0.6824 | Train loss: 0.6774\n",
      "Epoch: 300, Test loss: 0.6809 | Train loss: 0.6737\n",
      "Epoch: 400, Test loss: 0.6796 | Train loss: 0.6700\n",
      "Epoch: 500, Test loss: 0.6785 | Train loss: 0.6658\n",
      "Epoch: 600, Test loss: 0.6778 | Train loss: 0.6614\n",
      "Epoch: 700, Test loss: 0.6776 | Train loss: 0.6568\n"
     ]
    }
   ],
   "source": [
    "# Use GPU for training\n",
    "device = torch.device(\"cuda:0\" if torch.cuda.is_available() else \"cpu\")\n",
    "model = GNN()\n",
    "model = model.to(device)\n",
    "graph = graph.to(device)\n",
    "\n",
    "# Loss function\n",
    "loss_fn = torch.nn.BCEWithLogitsLoss()\n",
    "optimizer = torch.optim.Adam(model.parameters(), lr=0.00001)  \n",
    "\n",
    "\n",
    "def train():\n",
    "      model.train()\n",
    "      optimizer.zero_grad() \n",
    "      out = model(graph.x, graph.edge_index)  \n",
    "      preds = out[graph.train_mask]\n",
    "      targets = torch.unsqueeze(graph.y[graph.train_mask], 1)\n",
    "      loss = loss_fn(preds.float(), targets.float())  \n",
    "      loss.backward() \n",
    "      optimizer.step()\n",
    "      return loss\n",
    "\n",
    "def test():\n",
    "      model.eval()\n",
    "      optimizer.zero_grad() \n",
    "      out = model(graph.x, graph.edge_index)  \n",
    "      preds = out[graph.test_mask]\n",
    "      targets = torch.unsqueeze(graph.y[graph.test_mask], 1)\n",
    "      loss = loss_fn(preds.float(), targets.float())  \n",
    "      return loss\n",
    "\n",
    "for epoch in range(0, 800):\n",
    "    tr_loss = train()\n",
    "    if epoch % 100 == 0:\n",
    "      loss = test()\n",
    "      print(f'Epoch: {epoch:03d}, Test loss: {loss:.4f} | Train loss: {tr_loss:.4f}')"
   ]
  },
  {
   "cell_type": "code",
   "execution_count": 11,
   "metadata": {},
   "outputs": [
    {
     "name": "stdout",
     "output_type": "stream",
     "text": [
      "Test ROC:  0.5687391641761471\n"
     ]
    },
    {
     "data": {
      "text/html": [
       "<div>\n",
       "<style scoped>\n",
       "    .dataframe tbody tr th:only-of-type {\n",
       "        vertical-align: middle;\n",
       "    }\n",
       "\n",
       "    .dataframe tbody tr th {\n",
       "        vertical-align: top;\n",
       "    }\n",
       "\n",
       "    .dataframe thead th {\n",
       "        text-align: right;\n",
       "    }\n",
       "</style>\n",
       "<table border=\"1\" class=\"dataframe\">\n",
       "  <thead>\n",
       "    <tr style=\"text-align: right;\">\n",
       "      <th></th>\n",
       "      <th>preds</th>\n",
       "      <th>prob</th>\n",
       "      <th>gt</th>\n",
       "    </tr>\n",
       "  </thead>\n",
       "  <tbody>\n",
       "    <tr>\n",
       "      <th>0</th>\n",
       "      <td>0</td>\n",
       "      <td>0.49</td>\n",
       "      <td>0</td>\n",
       "    </tr>\n",
       "    <tr>\n",
       "      <th>1</th>\n",
       "      <td>1</td>\n",
       "      <td>0.63</td>\n",
       "      <td>1</td>\n",
       "    </tr>\n",
       "    <tr>\n",
       "      <th>2</th>\n",
       "      <td>1</td>\n",
       "      <td>0.54</td>\n",
       "      <td>1</td>\n",
       "    </tr>\n",
       "    <tr>\n",
       "      <th>3</th>\n",
       "      <td>0</td>\n",
       "      <td>0.45</td>\n",
       "      <td>0</td>\n",
       "    </tr>\n",
       "    <tr>\n",
       "      <th>4</th>\n",
       "      <td>1</td>\n",
       "      <td>0.57</td>\n",
       "      <td>1</td>\n",
       "    </tr>\n",
       "    <tr>\n",
       "      <th>5</th>\n",
       "      <td>0</td>\n",
       "      <td>0.49</td>\n",
       "      <td>0</td>\n",
       "    </tr>\n",
       "    <tr>\n",
       "      <th>6</th>\n",
       "      <td>1</td>\n",
       "      <td>0.52</td>\n",
       "      <td>1</td>\n",
       "    </tr>\n",
       "    <tr>\n",
       "      <th>7</th>\n",
       "      <td>0</td>\n",
       "      <td>0.48</td>\n",
       "      <td>0</td>\n",
       "    </tr>\n",
       "    <tr>\n",
       "      <th>8</th>\n",
       "      <td>1</td>\n",
       "      <td>0.69</td>\n",
       "      <td>1</td>\n",
       "    </tr>\n",
       "    <tr>\n",
       "      <th>9</th>\n",
       "      <td>1</td>\n",
       "      <td>0.57</td>\n",
       "      <td>1</td>\n",
       "    </tr>\n",
       "  </tbody>\n",
       "</table>\n",
       "</div>"
      ],
      "text/plain": [
       "   preds  prob  gt\n",
       "0      0  0.49   0\n",
       "1      1  0.63   1\n",
       "2      1  0.54   1\n",
       "3      0  0.45   0\n",
       "4      1  0.57   1\n",
       "5      0  0.49   0\n",
       "6      1  0.52   1\n",
       "7      0  0.48   0\n",
       "8      1  0.69   1\n",
       "9      1  0.57   1"
      ]
     },
     "execution_count": 11,
     "metadata": {},
     "output_type": "execute_result"
    }
   ],
   "source": [
    "from sklearn.metrics import roc_auc_score\n",
    "\n",
    "df = pd.DataFrame()\n",
    "# Model predictions'\n",
    "out = torch.sigmoid(model(graph.x, graph.edge_index))\n",
    "df[\"preds\"] = out[graph.test_mask].round().int().cpu().detach().numpy().squeeze()\n",
    "df[\"prob\"] = out[graph.test_mask].cpu().detach().numpy().squeeze().round(2)\n",
    "\n",
    "# Groundtruth\n",
    "df[\"gt\"] = graph.y[graph.test_mask].cpu().detach().numpy().squeeze()\n",
    "\n",
    "print(\"Test ROC: \", roc_auc_score(df[\"gt\"], df[\"preds\"]))\n",
    "df.head(10)"
   ]
  },
  {
   "cell_type": "code",
   "execution_count": 20,
   "metadata": {},
   "outputs": [
    {
     "name": "stdout",
     "output_type": "stream",
     "text": [
      "Generated explanations in ['node_mask', 'edge_mask']\n",
      "Feature importance plot has been saved to './results/ExplainTwitch/feature_importance.png'\n",
      "Subgraph visualization plot has been saved to './results/ExplainTwitch/subgraph.pdf'\n"
     ]
    }
   ],
   "source": [
    "# https://pytorch-geometric.readthedocs.io/en/latest/generated/torch_geometric.explain.algorithm.GNNExplainer.html\n",
    "\n",
    "from torch_geometric.explain import Explainer, GNNExplainer\n",
    "explainer = Explainer(model=model, \n",
    "                      algorithm=GNNExplainer(epochs=200), \n",
    "                      explanation_type='model',\n",
    "                      node_mask_type='attributes',\n",
    "                      edge_mask_type='object',\n",
    "                      model_config=dict(\n",
    "                                        mode='multiclass_classification',\n",
    "                                        task_level='node',\n",
    "                                        return_type='log_probs',),\n",
    "                      )\n",
    "\n",
    "\n",
    "# Explain node\n",
    "node_idx = 7\n",
    "explanation = explainer(graph.x, graph.edge_index, index=node_idx)\n",
    "print(f'Generated explanations in {explanation.available_explanations}')\n",
    "\n",
    "path = './results/ExplainTwitch/feature_importance.png'\n",
    "explanation.visualize_feature_importance(path, top_k=10)\n",
    "print(f\"Feature importance plot has been saved to '{path}'\")\n",
    "\n",
    "path = './results/ExplainTwitch/subgraph.pdf'\n",
    "explanation.visualize_graph(path)\n",
    "print(f\"Subgraph visualization plot has been saved to '{path}'\")"
   ]
  }
 ],
 "metadata": {
  "kernelspec": {
   "display_name": "GNN",
   "language": "python",
   "name": "python3"
  },
  "language_info": {
   "codemirror_mode": {
    "name": "ipython",
    "version": 3
   },
   "file_extension": ".py",
   "mimetype": "text/x-python",
   "name": "python",
   "nbconvert_exporter": "python",
   "pygments_lexer": "ipython3",
   "version": "3.11.3"
  },
  "orig_nbformat": 4
 },
 "nbformat": 4,
 "nbformat_minor": 2
}
